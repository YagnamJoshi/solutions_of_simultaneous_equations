{
 "cells": [
  {
   "cell_type": "markdown",
   "id": "a0118fc2-6aab-4265-b1f9-a623095bdd32",
   "metadata": {},
   "source": [
    "## Simultaneous equations \n",
    "### 3 equations, 3 variables \n",
    "#### a1x + b1y + c1z = d1 \n",
    "#### a2x + b2y + c2z = d2\n",
    "#### a3x + b3y + c3z = d3 "
   ]
  },
  {
   "cell_type": "code",
   "execution_count": 23,
   "id": "025d87af-694b-474a-9ac3-3b6286c269ea",
   "metadata": {},
   "outputs": [],
   "source": [
    "#lets say equ  ations are eq1, eq2, eq3 \n",
    "eq1 = \"2x + 4y + 1z = 3\"\n",
    "eq2 = \"3x + 2y + -2z = -2\"\n",
    "eq3 = \"1x + -1y + 1z = 6\""
   ]
  },
  {
   "cell_type": "code",
   "execution_count": 95,
   "id": "e905dc29-d061-4f1b-9cd6-7a712cd0c907",
   "metadata": {},
   "outputs": [],
   "source": [
    "# get constants1 funtion to get constants a,b,c,d\n",
    "def get_constants1(eq):\n",
    "    part1,part2 = eq.split('=')\n",
    "    d = int(part2)\n",
    "    part11,part12,part13=part1.split('+')\n",
    "    a = int(part11.split('x')[0])\n",
    "    b = int(part12.split('y')[0])\n",
    "    c = int(part13.split('z')[0])\n",
    "    return a,b,c,d\n",
    "#get constants2 function to get contants b,c,d\n",
    "def get_constants2(eq):\n",
    "    part1,part2 = eq.split('=')\n",
    "    d = float(part2)\n",
    "    part11,part12=part1.split('+')\n",
    "    b = float(part11.split('y')[0])\n",
    "    c = float(part12.split('z')[0])\n",
    "    return int(b),int(c),int(d)"
   ]
  },
  {
   "cell_type": "markdown",
   "id": "9684e5b1-936c-4523-83b8-4c8f350a529b",
   "metadata": {},
   "source": [
    "### Guass elimination method"
   ]
  },
  {
   "cell_type": "code",
   "execution_count": 114,
   "id": "30c53731-026f-442a-a6d4-30ff9e7925d9",
   "metadata": {},
   "outputs": [],
   "source": [
    "# function to solve any 2 equations ie get eq 4\n",
    "# idea:\n",
    "# using m1, m2 such that (a1*m1) = (a2*m2)\n",
    "def solve1(eq1,eq2):\n",
    "    import numpy as np\n",
    "    a1,b1,c1,d1 = get_constants1(eq1)\n",
    "    a2,b2,c2,d2 = get_constants1(eq2)\n",
    "    m1 = np.lcm(int(a1),int(a2)) #lcm of a1,a2\n",
    "    m2 = (a1*m1)/a2\n",
    "    b = (b1*m1)-(b2*m2)\n",
    "    c = (c1*m1)-(c2*m2)\n",
    "    d = (d1*m1)-(d2*m2)\n",
    "    return f\"{b}y + {c}z = {d}\"\n",
    "solve1(eq1,eq2)\n",
    "\n",
    "#function to get value y and z \n",
    "def solve2(eq4,eq5):\n",
    "    import numpy as np\n",
    "    b1,c1,d1 = get_constants2(eq4)\n",
    "    b2,c2,d2 = get_constants2(eq5)\n",
    "    A = np.array([[b1,c1],[b2,c2]])\n",
    "    B = np.array([d1,d2])\n",
    "    solution = np.linalg.solve(A,B)\n",
    "    return int(solution[0]),int(solution[1])\n",
    "\n",
    "#function to find value of x\n",
    "def solve3(eq,y,z):\n",
    "    a,b,c,d=get_constants1(eq)\n",
    "    x = (d-(y*b)-(z*c))/a\n",
    "    return int(x)"
   ]
  },
  {
   "cell_type": "code",
   "execution_count": 115,
   "id": "d33e558b-3318-4337-9c71-9e91c2133757",
   "metadata": {},
   "outputs": [
    {
     "name": "stdout",
     "output_type": "stream",
     "text": [
      "Solved values for \n",
      "2x + 4y + 1z = 3\n",
      "3x + 2y + -2z = -2\n",
      "1x + -1y + 1z = 6\n",
      "Are: x: 2 y: -1 z: 3\n"
     ]
    }
   ],
   "source": [
    "#lets get equation 4 and 5 \n",
    "eq4 = solve1(eq1,eq2)\n",
    "eq5 = solve1(eq1,eq3)\n",
    "#get values of x,y\n",
    "y,z = solve2(eq4,eq5)\n",
    "x = solve3(eq1,y,z)\n",
    "print(f'Solved values for \\n{eq1}\\n{eq2}\\n{eq3}\\nAre: x: {x} y: {y} z: {z}')"
   ]
  },
  {
   "cell_type": "code",
   "execution_count": null,
   "id": "d03c1b10-49e3-4987-8d76-0dbbb46e0a69",
   "metadata": {},
   "outputs": [],
   "source": []
  }
 ],
 "metadata": {
  "kernelspec": {
   "display_name": "Python 3 (ipykernel)",
   "language": "python",
   "name": "python3"
  },
  "language_info": {
   "codemirror_mode": {
    "name": "ipython",
    "version": 3
   },
   "file_extension": ".py",
   "mimetype": "text/x-python",
   "name": "python",
   "nbconvert_exporter": "python",
   "pygments_lexer": "ipython3",
   "version": "3.12.7"
  }
 },
 "nbformat": 4,
 "nbformat_minor": 5
}
