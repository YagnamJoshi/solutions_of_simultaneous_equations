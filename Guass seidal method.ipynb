{
 "cells": [
  {
   "cell_type": "markdown",
   "id": "a0118fc2-6aab-4265-b1f9-a623095bdd32",
   "metadata": {},
   "source": [
    "## Simultaneous equations \n",
    "### 3 equations, 3 variables \n",
    "#### a1x + b1y + c1z = d1 \n",
    "#### a2x + b2y + c2z = d2\n",
    "#### a3x + b3y + c3z = d3 "
   ]
  },
  {
   "cell_type": "code",
   "execution_count": 1,
   "id": "025d87af-694b-474a-9ac3-3b6286c269ea",
   "metadata": {},
   "outputs": [],
   "source": [
    "#lets say equ  ations are eq1, eq2, eq3 \n",
    "eq1 = \"5x + 2y + 1z = 12\"\n",
    "eq2 = \"1x + 4y + 2z = 15\"\n",
    "eq3 = \"1x + 2y + 5z = 20\"\n",
    "#number of iterations\n",
    "n = 10"
   ]
  },
  {
   "cell_type": "code",
   "execution_count": 2,
   "id": "e905dc29-d061-4f1b-9cd6-7a712cd0c907",
   "metadata": {},
   "outputs": [],
   "source": [
    "# get constants1 funtion to get constants a,b,c,d\n",
    "def get_constants1(eq):\n",
    "    part1,part2 = eq.split('=')\n",
    "    d = int(part2)\n",
    "    part11,part12,part13=part1.split('+')\n",
    "    a = int(part11.split('x')[0])\n",
    "    b = int(part12.split('y')[0])\n",
    "    c = int(part13.split('z')[0])\n",
    "    return a,b,c,d\n",
    "#get constants2 function to get contants b,c,d\n",
    "def get_constants2(eq):\n",
    "    part1,part2 = eq.split('=')\n",
    "    d = float(part2)\n",
    "    part11,part12=part1.split('+')\n",
    "    b = float(part11.split('y')[0])\n",
    "    c = float(part12.split('z')[0])\n",
    "    return int(b),int(c),int(d)"
   ]
  },
  {
   "cell_type": "markdown",
   "id": "9684e5b1-936c-4523-83b8-4c8f350a529b",
   "metadata": {},
   "source": [
    "### Guass seidal method"
   ]
  },
  {
   "cell_type": "code",
   "execution_count": 6,
   "id": "d03c1b10-49e3-4987-8d76-0dbbb46e0a69",
   "metadata": {},
   "outputs": [
    {
     "data": {
      "text/plain": [
       "('12 - 2y - 1z/5', '15 - 1x - 2z/4', '20 - 1x - 2y/5')"
      ]
     },
     "execution_count": 6,
     "metadata": {},
     "output_type": "execute_result"
    }
   ],
   "source": [
    "#function to find x,y,z value\n",
    "def find_x_y_z(eq1,eq2,eq3):\n",
    "    eqs = [eq1,eq2,eq3]\n",
    "    a = []\n",
    "    b = []\n",
    "    c = []\n",
    "    for i,eq in enumerate(eqs):\n",
    "        a1,b1,c1,d1=get_constants1(eq)\n",
    "        a.append(a1)\n",
    "        b.append(b1)\n",
    "        c.append(c1)\n",
    "    max_a_index = a.index(max(a))\n",
    "    max_b_index = b.index(max(b))\n",
    "    max_c_index = c.index(max(c))\n",
    "    eqs2 = []\n",
    "    eqs2.append(eqs[max_a_index])\n",
    "    eqs2.append(eqs[max_b_index])\n",
    "    eqs2.append(eqs[max_c_index])\n",
    "    a = []\n",
    "    b = []\n",
    "    c = []\n",
    "    d = []\n",
    "    for i,eq in enumerate(eqs2):\n",
    "        a1,b1,c1,d1=get_constants1(eq)\n",
    "        a.append(a1)\n",
    "        b.append(b1)\n",
    "        c.append(c1)\n",
    "        d.append(d1)\n",
    "    x = f\"{d[0]} - {b[0]}y - {c[0]}z/{a[0]}\"\n",
    "    y = f\"{d[1]} - {a[1]}x - {c[1]}z/{b[1]}\"\n",
    "    z = f\"{d[2]} - {a[2]}x - {b[2]}y/{c[2]}\"\n",
    "    return x,y,z\n",
    "find_x_y_z(eq1,eq2,eq3)"
   ]
  },
  {
   "cell_type": "code",
   "execution_count": 9,
   "id": "1d7b037e-1d4e-467e-ba1a-bf9031bc8e91",
   "metadata": {},
   "outputs": [],
   "source": [
    "# function to solve values \n",
    "def solve(x,y,z,x_value,y_value,z_value):\n",
    "    d = int(x.split('/')[0].split('-')[0])\n",
    "    b = int(x.split('/')[0].split('-')[1].split('y')[0])\n",
    "    c = int(x.split('/')[0].split('-')[2].split('z')[0])\n",
    "    a = int(x.split('/')[1])\n",
    "    x1 = (d - (b*y_value) - (c*z_value))/a\n",
    "    d = int(y.split('/')[0].split('-')[0])\n",
    "    a = int(y.split('/')[0].split('-')[1].split('x')[0])\n",
    "    c = int(y.split('/')[0].split('-')[2].split('z')[0])\n",
    "    b = int(y.split('/')[1])\n",
    "    y1 = (d - (a*x1) - (c*z_value))/b\n",
    "    d = int(z.split('/')[0].split('-')[0])\n",
    "    a = int(z.split('/')[0].split('-')[1].split('x')[0])\n",
    "    b = int(z.split('/')[0].split('-')[2].split('y')[0])\n",
    "    c = int(z.split('/')[1])\n",
    "    z1 = (d - (a*x1) - (b*y1))/c\n",
    "    return x1,y1,z1"
   ]
  },
  {
   "cell_type": "code",
   "execution_count": 11,
   "id": "3fa2c17d-a71e-424e-b41c-6c4a6c9f5e09",
   "metadata": {},
   "outputs": [
    {
     "name": "stdout",
     "output_type": "stream",
     "text": [
      "X value:  1\n",
      "Y value:  2\n",
      "Z value:  3\n"
     ]
    }
   ],
   "source": [
    "x,y,z = find_x_y_z(eq1,eq2,eq3)\n",
    "#1st iteration\n",
    "x_vals=[]\n",
    "y_vals=[]\n",
    "z_vals=[]\n",
    "new_x,new_y,new_z=solve(x,y,z,0,0,0)\n",
    "for i in range(n):\n",
    "    x_vals.append(new_x)\n",
    "    y_vals.append(new_y)\n",
    "    z_vals.append(new_z)\n",
    "    new_x,new_y,new_z=solve(x,y,z,new_x,new_y,new_z)\n",
    "print('X value: ',round(x_vals[n-1]))\n",
    "print('Y value: ',round(y_vals[n-1]))\n",
    "print('Z value: ',round(z_vals[n-1]))"
   ]
  },
  {
   "cell_type": "code",
   "execution_count": null,
   "id": "5097c80a-241e-472d-a867-f08d0f8474fa",
   "metadata": {},
   "outputs": [],
   "source": []
  }
 ],
 "metadata": {
  "kernelspec": {
   "display_name": "Python 3 (ipykernel)",
   "language": "python",
   "name": "python3"
  },
  "language_info": {
   "codemirror_mode": {
    "name": "ipython",
    "version": 3
   },
   "file_extension": ".py",
   "mimetype": "text/x-python",
   "name": "python",
   "nbconvert_exporter": "python",
   "pygments_lexer": "ipython3",
   "version": "3.12.7"
  }
 },
 "nbformat": 4,
 "nbformat_minor": 5
}
